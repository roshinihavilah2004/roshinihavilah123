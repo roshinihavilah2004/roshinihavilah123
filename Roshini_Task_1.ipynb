{
  "nbformat": 4,
  "nbformat_minor": 0,
  "metadata": {
    "colab": {
      "provenance": [],
      "toc_visible": true,
      "authorship_tag": "ABX9TyNSufRS6tADUB5G3FJO8tmn",
      "include_colab_link": true
    },
    "kernelspec": {
      "name": "python3",
      "display_name": "Python 3"
    },
    "language_info": {
      "name": "python"
    }
  },
  "cells": [
    {
      "cell_type": "markdown",
      "metadata": {
        "id": "view-in-github",
        "colab_type": "text"
      },
      "source": [
        "<a href=\"https://colab.research.google.com/github/roshinihavilah2004/roshinihavilah123/blob/main/Roshini_Task_1.ipynb\" target=\"_parent\"><img src=\"https://colab.research.google.com/assets/colab-badge.svg\" alt=\"Open In Colab\"/></a>"
      ]
    },
    {
      "cell_type": "markdown",
      "source": [
        "TASK-1\n",
        "\n",
        "1.) Read the given three CSV files to different pandas dataframes."
      ],
      "metadata": {
        "id": "7809sRs7HVsD"
      }
    },
    {
      "cell_type": "code",
      "execution_count": null,
      "metadata": {
        "colab": {
          "base_uri": "https://localhost:8080/"
        },
        "id": "X18hI23wz6mH",
        "outputId": "007f3ec0-6090-4366-bf91-345432d5e79c"
      },
      "outputs": [
        {
          "output_type": "stream",
          "name": "stdout",
          "text": [
            "   customer_id  region_id  start_date    end_date\n",
            "0            1          3  02-01-2020  03-01-2020\n",
            "1            2          3  03-01-2020  17-01-2020\n",
            "2            3          5  27-01-2020  18-02-2020\n",
            "3            4          5  07-01-2020  19-01-2020\n",
            "4            5          3  15-01-2020  23-01-2020\n",
            "   customer_id    txn_date txn_type  txn_amount\n",
            "0          429  21-01-2020  deposit          82\n",
            "1          155  10-01-2020  deposit         712\n",
            "2          398  01-01-2020  deposit         196\n",
            "3          255  14-01-2020  deposit         563\n",
            "4          185  29-01-2020  deposit         626\n",
            "   region_id region_name\n",
            "0          1   Australia\n",
            "1          2     America\n",
            "2          3      Africa\n",
            "3          4        Asia\n",
            "4          5      Europe\n"
          ]
        }
      ],
      "source": [
        " #import\n",
        " import pandas as pd\n",
        " #read\n",
        " transactions_df = pd.read_csv('/content/Transaction.csv')\n",
        " customers_df = pd.read_csv('/content/Customers (1).csv')\n",
        " continent_df = pd.read_csv('/content/Continent (1).csv')\n",
        " #print\n",
        " print(customers_df.head())\n",
        " print(transactions_df.head())\n",
        " print(continent_df.head())"
      ]
    },
    {
      "cell_type": "markdown",
      "source": [
        "**2**)Merge the Customers and Transaction into a single dataframe"
      ],
      "metadata": {
        "id": "TG0jFrzV7uJu"
      }
    },
    {
      "cell_type": "code",
      "source": [
        "merged_df = pd.merge(customers_df, transactions_df, on='customer_id')\n",
        "print(merged_df.head())"
      ],
      "metadata": {
        "colab": {
          "base_uri": "https://localhost:8080/"
        },
        "id": "vlOOyjwM57ve",
        "outputId": "89fd6c2b-b326-49cf-b2f4-0fd9241aeb3e"
      },
      "execution_count": null,
      "outputs": [
        {
          "output_type": "stream",
          "name": "stdout",
          "text": [
            "   customer_id  region_id  start_date    end_date    txn_date  txn_type  \\\n",
            "0            1          3  02-01-2020  03-01-2020  02-01-2020   deposit   \n",
            "1            1          3  02-01-2020  03-01-2020  05-03-2020  purchase   \n",
            "2            1          3  02-01-2020  03-01-2020  17-03-2020   deposit   \n",
            "3            1          3  02-01-2020  03-01-2020  19-03-2020  purchase   \n",
            "4            1          3  04-01-2020  14-01-2020  02-01-2020   deposit   \n",
            "\n",
            "   txn_amount  \n",
            "0         312  \n",
            "1         612  \n",
            "2         324  \n",
            "3         664  \n",
            "4         312  \n"
          ]
        }
      ]
    },
    {
      "cell_type": "markdown",
      "source": [
        "3.)Calculate the duration in days between start date and end date"
      ],
      "metadata": {
        "id": "XQ9Vlh8h8wZ3"
      }
    },
    {
      "cell_type": "code",
      "source": [
        "merged_df['start_date'] = pd.to_datetime(merged_df['start_date'], errors='coerce')\n",
        "merged_df['end_date'] = pd.to_datetime(merged_df['end_date'], errors='coerce')\n",
        "merged_df = merged_df.dropna(subset=['start_date', 'end_date'])\n",
        "merged_df['duration_days'] = (merged_df['end_date'] - merged_df['start_date']).dt.days\n",
        "print(merged_df.head())"
      ],
      "metadata": {
        "colab": {
          "base_uri": "https://localhost:8080/"
        },
        "id": "GA7tqk2i6t1o",
        "outputId": "1e39ac0c-3151-4969-eb48-7b44c7ef9291"
      },
      "execution_count": null,
      "outputs": [
        {
          "output_type": "stream",
          "name": "stdout",
          "text": [
            "    customer_id  region_id start_date   end_date    txn_date  txn_type  \\\n",
            "0             1          3 2020-02-01 2020-03-01  02-01-2020   deposit   \n",
            "1             1          3 2020-02-01 2020-03-01  05-03-2020  purchase   \n",
            "2             1          3 2020-02-01 2020-03-01  17-03-2020   deposit   \n",
            "3             1          3 2020-02-01 2020-03-01  19-03-2020  purchase   \n",
            "36            2          3 2020-08-03 2020-12-03  03-01-2020   deposit   \n",
            "\n",
            "    txn_amount  duration_days  \n",
            "0          312             29  \n",
            "1          612             29  \n",
            "2          324             29  \n",
            "3          664             29  \n",
            "36         549            122  \n"
          ]
        },
        {
          "output_type": "stream",
          "name": "stderr",
          "text": [
            "<ipython-input-18-39223fff215d>:4: SettingWithCopyWarning: \n",
            "A value is trying to be set on a copy of a slice from a DataFrame.\n",
            "Try using .loc[row_indexer,col_indexer] = value instead\n",
            "\n",
            "See the caveats in the documentation: https://pandas.pydata.org/pandas-docs/stable/user_guide/indexing.html#returning-a-view-versus-a-copy\n",
            "  merged_df['duration_days'] = (merged_df['end_date'] - merged_df['start_date']).dt.days\n"
          ]
        }
      ]
    },
    {
      "cell_type": "markdown",
      "source": [
        "4)Drop the duplicate rows in the merged dataframe if any."
      ],
      "metadata": {
        "id": "rx2DME3V9pDZ"
      }
    },
    {
      "cell_type": "code",
      "source": [
        "merged_df = merged_df.drop_duplicates()\n",
        "print(merged_df.head())\n",
        "print(merged_df.shape)"
      ],
      "metadata": {
        "colab": {
          "base_uri": "https://localhost:8080/"
        },
        "id": "a-ke_0Wb-UUd",
        "outputId": "f1f11f18-d0ce-4569-a994-92e24ee9ac65"
      },
      "execution_count": null,
      "outputs": [
        {
          "output_type": "stream",
          "name": "stdout",
          "text": [
            "    customer_id  region_id start_date   end_date    txn_date  txn_type  \\\n",
            "0             1          3 2020-02-01 2020-03-01  02-01-2020   deposit   \n",
            "1             1          3 2020-02-01 2020-03-01  05-03-2020  purchase   \n",
            "2             1          3 2020-02-01 2020-03-01  17-03-2020   deposit   \n",
            "3             1          3 2020-02-01 2020-03-01  19-03-2020  purchase   \n",
            "36            2          3 2020-08-03 2020-12-03  03-01-2020   deposit   \n",
            "\n",
            "    txn_amount  duration_days  \n",
            "0          312             29  \n",
            "1          612             29  \n",
            "2          324             29  \n",
            "3          664             29  \n",
            "36         549            122  \n",
            "(5117, 8)\n"
          ]
        }
      ]
    },
    {
      "cell_type": "markdown",
      "source": [
        "5. Drop rows with missing values in the merged dataframe if any."
      ],
      "metadata": {
        "id": "JQlLODc9-2Qv"
      }
    },
    {
      "cell_type": "code",
      "source": [
        "#This command will give you a count of null values in each column.\n",
        "print(customers_df.isnull().sum())"
      ],
      "metadata": {
        "colab": {
          "base_uri": "https://localhost:8080/"
        },
        "id": "3G60dXwI-32U",
        "outputId": "7f35c547-caaa-4950-b3d5-67ba6362b50d"
      },
      "execution_count": null,
      "outputs": [
        {
          "output_type": "stream",
          "name": "stdout",
          "text": [
            "customer_id    0\n",
            "region_id      0\n",
            "start_date     0\n",
            "end_date       0\n",
            "dtype: int64\n"
          ]
        }
      ]
    },
    {
      "cell_type": "code",
      "source": [
        "merged_df = merged_df.dropna()\n",
        "print(merged_df.head())\n",
        "print(merged_df.shape)"
      ],
      "metadata": {
        "colab": {
          "base_uri": "https://localhost:8080/"
        },
        "id": "B0AVgPqF_hcb",
        "outputId": "51cb30a5-f7a4-4de0-95bf-fd6dd98ae965"
      },
      "execution_count": null,
      "outputs": [
        {
          "output_type": "stream",
          "name": "stdout",
          "text": [
            "    customer_id  region_id start_date   end_date    txn_date  txn_type  \\\n",
            "0             1          3 2020-02-01 2020-03-01  02-01-2020   deposit   \n",
            "1             1          3 2020-02-01 2020-03-01  05-03-2020  purchase   \n",
            "2             1          3 2020-02-01 2020-03-01  17-03-2020   deposit   \n",
            "3             1          3 2020-02-01 2020-03-01  19-03-2020  purchase   \n",
            "36            2          3 2020-08-03 2020-12-03  03-01-2020   deposit   \n",
            "\n",
            "    txn_amount  duration_days  \n",
            "0          312             29  \n",
            "1          612             29  \n",
            "2          324             29  \n",
            "3          664             29  \n",
            "36         549            122  \n",
            "(5117, 8)\n"
          ]
        }
      ]
    },
    {
      "cell_type": "markdown",
      "source": [
        " 6. Calculate the average duration of each customer"
      ],
      "metadata": {
        "id": "pn2tRbns_vz_"
      }
    },
    {
      "cell_type": "code",
      "source": [
        "average_duration = merged_df.groupby('customer_id')['duration_days'].mean().reset_index()\n",
        "average_duration.columns = ['customer_id', 'average_duration_days']\n",
        "print(average_duration)"
      ],
      "metadata": {
        "colab": {
          "base_uri": "https://localhost:8080/"
        },
        "id": "1mSblEyy_y1C",
        "outputId": "1c3c98cf-e595-4f9e-f6d5-85b5cfdce78e"
      },
      "execution_count": null,
      "outputs": [
        {
          "output_type": "stream",
          "name": "stdout",
          "text": [
            "     customer_id  average_duration_days\n",
            "0              1                   29.0\n",
            "1              2                  122.0\n",
            "2              3                    0.0\n",
            "3              4                  275.0\n",
            "4              5                  121.0\n",
            "..           ...                    ...\n",
            "259          495                 -121.0\n",
            "260          496                  107.5\n",
            "261          498                   16.0\n",
            "262          499                   60.0\n",
            "263          500                  152.0\n",
            "\n",
            "[264 rows x 2 columns]\n"
          ]
        }
      ]
    },
    {
      "cell_type": "markdown",
      "source": [
        "7. Display the unique transaction types."
      ],
      "metadata": {
        "id": "ps0tvxlDAAMW"
      }
    },
    {
      "cell_type": "code",
      "source": [
        "unique_transaction_types = merged_df['txn_type'].unique()\n",
        "print(unique_transaction_types)"
      ],
      "metadata": {
        "colab": {
          "base_uri": "https://localhost:8080/"
        },
        "id": "i7-b8hBtADyU",
        "outputId": "033206e7-bdb0-40dc-ba1b-66e03975244b"
      },
      "execution_count": null,
      "outputs": [
        {
          "output_type": "stream",
          "name": "stdout",
          "text": [
            "['deposit' 'purchase' 'withdrawal']\n"
          ]
        }
      ]
    },
    {
      "cell_type": "markdown",
      "source": [
        " 8. Display the count of each transaction type with respect to each continent.\n"
      ],
      "metadata": {
        "id": "S1FPtUYpAIq_"
      }
    },
    {
      "cell_type": "code",
      "source": [
        "transaction_count_by_continent = merged_df.groupby(['region_id', 'txn_type']).size().reset_index(name='count')\n",
        "print(transaction_count_by_continent)"
      ],
      "metadata": {
        "colab": {
          "base_uri": "https://localhost:8080/"
        },
        "id": "xn5auvXpARBM",
        "outputId": "64dbe3f8-ad28-4d44-8822-aaf20eb8ee02"
      },
      "execution_count": null,
      "outputs": [
        {
          "output_type": "stream",
          "name": "stdout",
          "text": [
            "    region_id    txn_type  count\n",
            "0           1     deposit    556\n",
            "1           1    purchase    346\n",
            "2           1  withdrawal    311\n",
            "3           2     deposit    585\n",
            "4           2    purchase    340\n",
            "5           2  withdrawal    355\n",
            "6           3     deposit    425\n",
            "7           3    purchase    252\n",
            "8           3  withdrawal    259\n",
            "9           4     deposit    424\n",
            "10          4    purchase    269\n",
            "11          4  withdrawal    276\n",
            "12          5     deposit    321\n",
            "13          5    purchase    199\n",
            "14          5  withdrawal    199\n"
          ]
        }
      ]
    },
    {
      "cell_type": "markdown",
      "source": [
        "9. Find out the selling cost average for packages developed in Pascal"
      ],
      "metadata": {
        "id": "WPMXqAj-Acrd"
      }
    },
    {
      "cell_type": "code",
      "source": [
        "software_df = pd.read_csv('/content/Software (1).csv')\n",
        "print(software_df.head())"
      ],
      "metadata": {
        "colab": {
          "base_uri": "https://localhost:8080/"
        },
        "id": "UZLfXdclAhdu",
        "outputId": "37560353-9c63-4274-c14c-e73a5596e100"
      },
      "execution_count": null,
      "outputs": [
        {
          "output_type": "stream",
          "name": "stdout",
          "text": [
            "     PNAME          TITLE DEVELOPIN    SCOST  DCOST  SOLD\n",
            "0     MARY         README       CPP   300.00   1200    84\n",
            "1    ANAND     PARACHUTES     BASIC   399.95   6000    43\n",
            "2    ANAND  VIDEO TITLING    PASCAL  7500.00  16000     9\n",
            "3  JULIANA      INVENTORY     COBOL  3000.00   3500     0\n",
            "4   KAMALA   PAYROLL PKG.     DBASE  9000.00  20000     7\n"
          ]
        }
      ]
    },
    {
      "cell_type": "code",
      "source": [
        "savg = software_df.groupby('DEVELOPIN')['SCOST'].mean()\n",
        "pas = software_df[software_df['DEVELOPIN'] == 'PASCAL']\n",
        "pasavg = pas['SCOST'].mean()\n",
        "print('The average selling cost for packages developed in Pascal:', pasavg)"
      ],
      "metadata": {
        "colab": {
          "base_uri": "https://localhost:8080/"
        },
        "id": "vJPaZf6xBSfG",
        "outputId": "adf8436d-d3e8-45ef-af83-301d3416e1af"
      },
      "execution_count": null,
      "outputs": [
        {
          "output_type": "stream",
          "name": "stdout",
          "text": [
            "The average selling cost for packages developed in Pascal: 3066.65\n"
          ]
        }
      ]
    },
    {
      "cell_type": "markdown",
      "source": [
        " 10. Display the names of those who have done the DAP Course."
      ],
      "metadata": {
        "id": "QbeeYzZiEGJz"
      }
    },
    {
      "cell_type": "code",
      "source": [
        "studies_df=pd.read_csv('/content/Studies (1).csv')\n",
        "studies_df.head()"
      ],
      "metadata": {
        "colab": {
          "base_uri": "https://localhost:8080/",
          "height": 206
        },
        "id": "tTfHLgctAyTz",
        "outputId": "1d11b5d7-8c43-4cf3-ff9e-ed04b89114f2"
      },
      "execution_count": null,
      "outputs": [
        {
          "output_type": "execute_result",
          "data": {
            "text/plain": [
              "     PNAME INSTITUTE COURSE  COURSE FEE\n",
              "0    ANAND   SABHARI  PGDCA        4500\n",
              "1    ALTAF      COIT    DCA        7200\n",
              "2  JULIANA      BDPS    MCA       22000\n",
              "3   KAMALA  PRAGATHI    DCA        5000\n",
              "4     MARY   SABHARI  PGDCA        4500"
            ],
            "text/html": [
              "\n",
              "  <div id=\"df-44423451-722a-4f78-b857-3975713f1810\" class=\"colab-df-container\">\n",
              "    <div>\n",
              "<style scoped>\n",
              "    .dataframe tbody tr th:only-of-type {\n",
              "        vertical-align: middle;\n",
              "    }\n",
              "\n",
              "    .dataframe tbody tr th {\n",
              "        vertical-align: top;\n",
              "    }\n",
              "\n",
              "    .dataframe thead th {\n",
              "        text-align: right;\n",
              "    }\n",
              "</style>\n",
              "<table border=\"1\" class=\"dataframe\">\n",
              "  <thead>\n",
              "    <tr style=\"text-align: right;\">\n",
              "      <th></th>\n",
              "      <th>PNAME</th>\n",
              "      <th>INSTITUTE</th>\n",
              "      <th>COURSE</th>\n",
              "      <th>COURSE FEE</th>\n",
              "    </tr>\n",
              "  </thead>\n",
              "  <tbody>\n",
              "    <tr>\n",
              "      <th>0</th>\n",
              "      <td>ANAND</td>\n",
              "      <td>SABHARI</td>\n",
              "      <td>PGDCA</td>\n",
              "      <td>4500</td>\n",
              "    </tr>\n",
              "    <tr>\n",
              "      <th>1</th>\n",
              "      <td>ALTAF</td>\n",
              "      <td>COIT</td>\n",
              "      <td>DCA</td>\n",
              "      <td>7200</td>\n",
              "    </tr>\n",
              "    <tr>\n",
              "      <th>2</th>\n",
              "      <td>JULIANA</td>\n",
              "      <td>BDPS</td>\n",
              "      <td>MCA</td>\n",
              "      <td>22000</td>\n",
              "    </tr>\n",
              "    <tr>\n",
              "      <th>3</th>\n",
              "      <td>KAMALA</td>\n",
              "      <td>PRAGATHI</td>\n",
              "      <td>DCA</td>\n",
              "      <td>5000</td>\n",
              "    </tr>\n",
              "    <tr>\n",
              "      <th>4</th>\n",
              "      <td>MARY</td>\n",
              "      <td>SABHARI</td>\n",
              "      <td>PGDCA</td>\n",
              "      <td>4500</td>\n",
              "    </tr>\n",
              "  </tbody>\n",
              "</table>\n",
              "</div>\n",
              "    <div class=\"colab-df-buttons\">\n",
              "\n",
              "  <div class=\"colab-df-container\">\n",
              "    <button class=\"colab-df-convert\" onclick=\"convertToInteractive('df-44423451-722a-4f78-b857-3975713f1810')\"\n",
              "            title=\"Convert this dataframe to an interactive table.\"\n",
              "            style=\"display:none;\">\n",
              "\n",
              "  <svg xmlns=\"http://www.w3.org/2000/svg\" height=\"24px\" viewBox=\"0 -960 960 960\">\n",
              "    <path d=\"M120-120v-720h720v720H120Zm60-500h600v-160H180v160Zm220 220h160v-160H400v160Zm0 220h160v-160H400v160ZM180-400h160v-160H180v160Zm440 0h160v-160H620v160ZM180-180h160v-160H180v160Zm440 0h160v-160H620v160Z\"/>\n",
              "  </svg>\n",
              "    </button>\n",
              "\n",
              "  <style>\n",
              "    .colab-df-container {\n",
              "      display:flex;\n",
              "      gap: 12px;\n",
              "    }\n",
              "\n",
              "    .colab-df-convert {\n",
              "      background-color: #E8F0FE;\n",
              "      border: none;\n",
              "      border-radius: 50%;\n",
              "      cursor: pointer;\n",
              "      display: none;\n",
              "      fill: #1967D2;\n",
              "      height: 32px;\n",
              "      padding: 0 0 0 0;\n",
              "      width: 32px;\n",
              "    }\n",
              "\n",
              "    .colab-df-convert:hover {\n",
              "      background-color: #E2EBFA;\n",
              "      box-shadow: 0px 1px 2px rgba(60, 64, 67, 0.3), 0px 1px 3px 1px rgba(60, 64, 67, 0.15);\n",
              "      fill: #174EA6;\n",
              "    }\n",
              "\n",
              "    .colab-df-buttons div {\n",
              "      margin-bottom: 4px;\n",
              "    }\n",
              "\n",
              "    [theme=dark] .colab-df-convert {\n",
              "      background-color: #3B4455;\n",
              "      fill: #D2E3FC;\n",
              "    }\n",
              "\n",
              "    [theme=dark] .colab-df-convert:hover {\n",
              "      background-color: #434B5C;\n",
              "      box-shadow: 0px 1px 3px 1px rgba(0, 0, 0, 0.15);\n",
              "      filter: drop-shadow(0px 1px 2px rgba(0, 0, 0, 0.3));\n",
              "      fill: #FFFFFF;\n",
              "    }\n",
              "  </style>\n",
              "\n",
              "    <script>\n",
              "      const buttonEl =\n",
              "        document.querySelector('#df-44423451-722a-4f78-b857-3975713f1810 button.colab-df-convert');\n",
              "      buttonEl.style.display =\n",
              "        google.colab.kernel.accessAllowed ? 'block' : 'none';\n",
              "\n",
              "      async function convertToInteractive(key) {\n",
              "        const element = document.querySelector('#df-44423451-722a-4f78-b857-3975713f1810');\n",
              "        const dataTable =\n",
              "          await google.colab.kernel.invokeFunction('convertToInteractive',\n",
              "                                                    [key], {});\n",
              "        if (!dataTable) return;\n",
              "\n",
              "        const docLinkHtml = 'Like what you see? Visit the ' +\n",
              "          '<a target=\"_blank\" href=https://colab.research.google.com/notebooks/data_table.ipynb>data table notebook</a>'\n",
              "          + ' to learn more about interactive tables.';\n",
              "        element.innerHTML = '';\n",
              "        dataTable['output_type'] = 'display_data';\n",
              "        await google.colab.output.renderOutput(dataTable, element);\n",
              "        const docLink = document.createElement('div');\n",
              "        docLink.innerHTML = docLinkHtml;\n",
              "        element.appendChild(docLink);\n",
              "      }\n",
              "    </script>\n",
              "  </div>\n",
              "\n",
              "\n",
              "<div id=\"df-ef096a54-a63b-4f75-9d79-a7ceaefef683\">\n",
              "  <button class=\"colab-df-quickchart\" onclick=\"quickchart('df-ef096a54-a63b-4f75-9d79-a7ceaefef683')\"\n",
              "            title=\"Suggest charts\"\n",
              "            style=\"display:none;\">\n",
              "\n",
              "<svg xmlns=\"http://www.w3.org/2000/svg\" height=\"24px\"viewBox=\"0 0 24 24\"\n",
              "     width=\"24px\">\n",
              "    <g>\n",
              "        <path d=\"M19 3H5c-1.1 0-2 .9-2 2v14c0 1.1.9 2 2 2h14c1.1 0 2-.9 2-2V5c0-1.1-.9-2-2-2zM9 17H7v-7h2v7zm4 0h-2V7h2v10zm4 0h-2v-4h2v4z\"/>\n",
              "    </g>\n",
              "</svg>\n",
              "  </button>\n",
              "\n",
              "<style>\n",
              "  .colab-df-quickchart {\n",
              "      --bg-color: #E8F0FE;\n",
              "      --fill-color: #1967D2;\n",
              "      --hover-bg-color: #E2EBFA;\n",
              "      --hover-fill-color: #174EA6;\n",
              "      --disabled-fill-color: #AAA;\n",
              "      --disabled-bg-color: #DDD;\n",
              "  }\n",
              "\n",
              "  [theme=dark] .colab-df-quickchart {\n",
              "      --bg-color: #3B4455;\n",
              "      --fill-color: #D2E3FC;\n",
              "      --hover-bg-color: #434B5C;\n",
              "      --hover-fill-color: #FFFFFF;\n",
              "      --disabled-bg-color: #3B4455;\n",
              "      --disabled-fill-color: #666;\n",
              "  }\n",
              "\n",
              "  .colab-df-quickchart {\n",
              "    background-color: var(--bg-color);\n",
              "    border: none;\n",
              "    border-radius: 50%;\n",
              "    cursor: pointer;\n",
              "    display: none;\n",
              "    fill: var(--fill-color);\n",
              "    height: 32px;\n",
              "    padding: 0;\n",
              "    width: 32px;\n",
              "  }\n",
              "\n",
              "  .colab-df-quickchart:hover {\n",
              "    background-color: var(--hover-bg-color);\n",
              "    box-shadow: 0 1px 2px rgba(60, 64, 67, 0.3), 0 1px 3px 1px rgba(60, 64, 67, 0.15);\n",
              "    fill: var(--button-hover-fill-color);\n",
              "  }\n",
              "\n",
              "  .colab-df-quickchart-complete:disabled,\n",
              "  .colab-df-quickchart-complete:disabled:hover {\n",
              "    background-color: var(--disabled-bg-color);\n",
              "    fill: var(--disabled-fill-color);\n",
              "    box-shadow: none;\n",
              "  }\n",
              "\n",
              "  .colab-df-spinner {\n",
              "    border: 2px solid var(--fill-color);\n",
              "    border-color: transparent;\n",
              "    border-bottom-color: var(--fill-color);\n",
              "    animation:\n",
              "      spin 1s steps(1) infinite;\n",
              "  }\n",
              "\n",
              "  @keyframes spin {\n",
              "    0% {\n",
              "      border-color: transparent;\n",
              "      border-bottom-color: var(--fill-color);\n",
              "      border-left-color: var(--fill-color);\n",
              "    }\n",
              "    20% {\n",
              "      border-color: transparent;\n",
              "      border-left-color: var(--fill-color);\n",
              "      border-top-color: var(--fill-color);\n",
              "    }\n",
              "    30% {\n",
              "      border-color: transparent;\n",
              "      border-left-color: var(--fill-color);\n",
              "      border-top-color: var(--fill-color);\n",
              "      border-right-color: var(--fill-color);\n",
              "    }\n",
              "    40% {\n",
              "      border-color: transparent;\n",
              "      border-right-color: var(--fill-color);\n",
              "      border-top-color: var(--fill-color);\n",
              "    }\n",
              "    60% {\n",
              "      border-color: transparent;\n",
              "      border-right-color: var(--fill-color);\n",
              "    }\n",
              "    80% {\n",
              "      border-color: transparent;\n",
              "      border-right-color: var(--fill-color);\n",
              "      border-bottom-color: var(--fill-color);\n",
              "    }\n",
              "    90% {\n",
              "      border-color: transparent;\n",
              "      border-bottom-color: var(--fill-color);\n",
              "    }\n",
              "  }\n",
              "</style>\n",
              "\n",
              "  <script>\n",
              "    async function quickchart(key) {\n",
              "      const quickchartButtonEl =\n",
              "        document.querySelector('#' + key + ' button');\n",
              "      quickchartButtonEl.disabled = true;  // To prevent multiple clicks.\n",
              "      quickchartButtonEl.classList.add('colab-df-spinner');\n",
              "      try {\n",
              "        const charts = await google.colab.kernel.invokeFunction(\n",
              "            'suggestCharts', [key], {});\n",
              "      } catch (error) {\n",
              "        console.error('Error during call to suggestCharts:', error);\n",
              "      }\n",
              "      quickchartButtonEl.classList.remove('colab-df-spinner');\n",
              "      quickchartButtonEl.classList.add('colab-df-quickchart-complete');\n",
              "    }\n",
              "    (() => {\n",
              "      let quickchartButtonEl =\n",
              "        document.querySelector('#df-ef096a54-a63b-4f75-9d79-a7ceaefef683 button');\n",
              "      quickchartButtonEl.style.display =\n",
              "        google.colab.kernel.accessAllowed ? 'block' : 'none';\n",
              "    })();\n",
              "  </script>\n",
              "</div>\n",
              "\n",
              "    </div>\n",
              "  </div>\n"
            ],
            "application/vnd.google.colaboratory.intrinsic+json": {
              "type": "dataframe",
              "variable_name": "studies_df",
              "summary": "{\n  \"name\": \"studies_df\",\n  \"rows\": 13,\n  \"fields\": [\n    {\n      \"column\": \"PNAME\",\n      \"properties\": {\n        \"dtype\": \"string\",\n        \"num_unique_values\": 13,\n        \"samples\": [\n          \"REVATHI\",\n          \"REBECCA\",\n          \"ANAND\"\n        ],\n        \"semantic_type\": \"\",\n        \"description\": \"\"\n      }\n    },\n    {\n      \"column\": \"INSTITUTE\",\n      \"properties\": {\n        \"dtype\": \"category\",\n        \"num_unique_values\": 6,\n        \"samples\": [\n          \"SABHARI\",\n          \"COIT\",\n          \"BRILLIANT\"\n        ],\n        \"semantic_type\": \"\",\n        \"description\": \"\"\n      }\n    },\n    {\n      \"column\": \"COURSE\",\n      \"properties\": {\n        \"dtype\": \"string\",\n        \"num_unique_values\": 7,\n        \"samples\": [\n          \"PGDCA\",\n          \"DCA\",\n          \"HDCA\"\n        ],\n        \"semantic_type\": \"\",\n        \"description\": \"\"\n      }\n    },\n    {\n      \"column\": \"COURSE FEE\",\n      \"properties\": {\n        \"dtype\": \"number\",\n        \"std\": 12226,\n        \"min\": 4500,\n        \"max\": 48000,\n        \"num_unique_values\": 10,\n        \"samples\": [\n          6000,\n          7200,\n          5200\n        ],\n        \"semantic_type\": \"\",\n        \"description\": \"\"\n      }\n    }\n  ]\n}"
            }
          },
          "metadata": {},
          "execution_count": 34
        }
      ]
    },
    {
      "cell_type": "code",
      "source": [
        "studies_df.info()\n",
        "studies_df['COURSE'].unique()"
      ],
      "metadata": {
        "colab": {
          "base_uri": "https://localhost:8080/"
        },
        "id": "eX8uK1fDEvly",
        "outputId": "b7835ea1-a9d8-46ea-8f1d-21f1e0540315"
      },
      "execution_count": null,
      "outputs": [
        {
          "output_type": "stream",
          "name": "stdout",
          "text": [
            "<class 'pandas.core.frame.DataFrame'>\n",
            "RangeIndex: 13 entries, 0 to 12\n",
            "Data columns (total 4 columns):\n",
            " #   Column      Non-Null Count  Dtype \n",
            "---  ------      --------------  ----- \n",
            " 0   PNAME       13 non-null     object\n",
            " 1   INSTITUTE   13 non-null     object\n",
            " 2   COURSE      13 non-null     object\n",
            " 3   COURSE FEE  13 non-null     int64 \n",
            "dtypes: int64(1), object(3)\n",
            "memory usage: 544.0+ bytes\n"
          ]
        },
        {
          "output_type": "execute_result",
          "data": {
            "text/plain": [
              "array(['PGDCA', 'DCA', 'MCA', 'DAP', 'DCAP', 'HDCA', 'DCS'], dtype=object)"
            ]
          },
          "metadata": {},
          "execution_count": 35
        }
      ]
    },
    {
      "cell_type": "code",
      "source": [
        "studies_df[studies_df['COURSE']=='DAP']"
      ],
      "metadata": {
        "colab": {
          "base_uri": "https://localhost:8080/",
          "height": 112
        },
        "id": "S4RbbW87Ez8s",
        "outputId": "aba93a82-a1c7-4aaa-9214-d4dc7b8323d9"
      },
      "execution_count": null,
      "outputs": [
        {
          "output_type": "execute_result",
          "data": {
            "text/plain": [
              "      PNAME INSTITUTE COURSE  COURSE FEE\n",
              "5    NELSON  PRAGATHI    DAP        6200\n",
              "11  REVATHI   SABHARI    DAP        5000"
            ],
            "text/html": [
              "\n",
              "  <div id=\"df-f9c8a56e-d4b4-4c43-9bcb-be16c5babc8f\" class=\"colab-df-container\">\n",
              "    <div>\n",
              "<style scoped>\n",
              "    .dataframe tbody tr th:only-of-type {\n",
              "        vertical-align: middle;\n",
              "    }\n",
              "\n",
              "    .dataframe tbody tr th {\n",
              "        vertical-align: top;\n",
              "    }\n",
              "\n",
              "    .dataframe thead th {\n",
              "        text-align: right;\n",
              "    }\n",
              "</style>\n",
              "<table border=\"1\" class=\"dataframe\">\n",
              "  <thead>\n",
              "    <tr style=\"text-align: right;\">\n",
              "      <th></th>\n",
              "      <th>PNAME</th>\n",
              "      <th>INSTITUTE</th>\n",
              "      <th>COURSE</th>\n",
              "      <th>COURSE FEE</th>\n",
              "    </tr>\n",
              "  </thead>\n",
              "  <tbody>\n",
              "    <tr>\n",
              "      <th>5</th>\n",
              "      <td>NELSON</td>\n",
              "      <td>PRAGATHI</td>\n",
              "      <td>DAP</td>\n",
              "      <td>6200</td>\n",
              "    </tr>\n",
              "    <tr>\n",
              "      <th>11</th>\n",
              "      <td>REVATHI</td>\n",
              "      <td>SABHARI</td>\n",
              "      <td>DAP</td>\n",
              "      <td>5000</td>\n",
              "    </tr>\n",
              "  </tbody>\n",
              "</table>\n",
              "</div>\n",
              "    <div class=\"colab-df-buttons\">\n",
              "\n",
              "  <div class=\"colab-df-container\">\n",
              "    <button class=\"colab-df-convert\" onclick=\"convertToInteractive('df-f9c8a56e-d4b4-4c43-9bcb-be16c5babc8f')\"\n",
              "            title=\"Convert this dataframe to an interactive table.\"\n",
              "            style=\"display:none;\">\n",
              "\n",
              "  <svg xmlns=\"http://www.w3.org/2000/svg\" height=\"24px\" viewBox=\"0 -960 960 960\">\n",
              "    <path d=\"M120-120v-720h720v720H120Zm60-500h600v-160H180v160Zm220 220h160v-160H400v160Zm0 220h160v-160H400v160ZM180-400h160v-160H180v160Zm440 0h160v-160H620v160ZM180-180h160v-160H180v160Zm440 0h160v-160H620v160Z\"/>\n",
              "  </svg>\n",
              "    </button>\n",
              "\n",
              "  <style>\n",
              "    .colab-df-container {\n",
              "      display:flex;\n",
              "      gap: 12px;\n",
              "    }\n",
              "\n",
              "    .colab-df-convert {\n",
              "      background-color: #E8F0FE;\n",
              "      border: none;\n",
              "      border-radius: 50%;\n",
              "      cursor: pointer;\n",
              "      display: none;\n",
              "      fill: #1967D2;\n",
              "      height: 32px;\n",
              "      padding: 0 0 0 0;\n",
              "      width: 32px;\n",
              "    }\n",
              "\n",
              "    .colab-df-convert:hover {\n",
              "      background-color: #E2EBFA;\n",
              "      box-shadow: 0px 1px 2px rgba(60, 64, 67, 0.3), 0px 1px 3px 1px rgba(60, 64, 67, 0.15);\n",
              "      fill: #174EA6;\n",
              "    }\n",
              "\n",
              "    .colab-df-buttons div {\n",
              "      margin-bottom: 4px;\n",
              "    }\n",
              "\n",
              "    [theme=dark] .colab-df-convert {\n",
              "      background-color: #3B4455;\n",
              "      fill: #D2E3FC;\n",
              "    }\n",
              "\n",
              "    [theme=dark] .colab-df-convert:hover {\n",
              "      background-color: #434B5C;\n",
              "      box-shadow: 0px 1px 3px 1px rgba(0, 0, 0, 0.15);\n",
              "      filter: drop-shadow(0px 1px 2px rgba(0, 0, 0, 0.3));\n",
              "      fill: #FFFFFF;\n",
              "    }\n",
              "  </style>\n",
              "\n",
              "    <script>\n",
              "      const buttonEl =\n",
              "        document.querySelector('#df-f9c8a56e-d4b4-4c43-9bcb-be16c5babc8f button.colab-df-convert');\n",
              "      buttonEl.style.display =\n",
              "        google.colab.kernel.accessAllowed ? 'block' : 'none';\n",
              "\n",
              "      async function convertToInteractive(key) {\n",
              "        const element = document.querySelector('#df-f9c8a56e-d4b4-4c43-9bcb-be16c5babc8f');\n",
              "        const dataTable =\n",
              "          await google.colab.kernel.invokeFunction('convertToInteractive',\n",
              "                                                    [key], {});\n",
              "        if (!dataTable) return;\n",
              "\n",
              "        const docLinkHtml = 'Like what you see? Visit the ' +\n",
              "          '<a target=\"_blank\" href=https://colab.research.google.com/notebooks/data_table.ipynb>data table notebook</a>'\n",
              "          + ' to learn more about interactive tables.';\n",
              "        element.innerHTML = '';\n",
              "        dataTable['output_type'] = 'display_data';\n",
              "        await google.colab.output.renderOutput(dataTable, element);\n",
              "        const docLink = document.createElement('div');\n",
              "        docLink.innerHTML = docLinkHtml;\n",
              "        element.appendChild(docLink);\n",
              "      }\n",
              "    </script>\n",
              "  </div>\n",
              "\n",
              "\n",
              "<div id=\"df-35315cdf-40b8-4c2e-87d8-075bbf7fb8e9\">\n",
              "  <button class=\"colab-df-quickchart\" onclick=\"quickchart('df-35315cdf-40b8-4c2e-87d8-075bbf7fb8e9')\"\n",
              "            title=\"Suggest charts\"\n",
              "            style=\"display:none;\">\n",
              "\n",
              "<svg xmlns=\"http://www.w3.org/2000/svg\" height=\"24px\"viewBox=\"0 0 24 24\"\n",
              "     width=\"24px\">\n",
              "    <g>\n",
              "        <path d=\"M19 3H5c-1.1 0-2 .9-2 2v14c0 1.1.9 2 2 2h14c1.1 0 2-.9 2-2V5c0-1.1-.9-2-2-2zM9 17H7v-7h2v7zm4 0h-2V7h2v10zm4 0h-2v-4h2v4z\"/>\n",
              "    </g>\n",
              "</svg>\n",
              "  </button>\n",
              "\n",
              "<style>\n",
              "  .colab-df-quickchart {\n",
              "      --bg-color: #E8F0FE;\n",
              "      --fill-color: #1967D2;\n",
              "      --hover-bg-color: #E2EBFA;\n",
              "      --hover-fill-color: #174EA6;\n",
              "      --disabled-fill-color: #AAA;\n",
              "      --disabled-bg-color: #DDD;\n",
              "  }\n",
              "\n",
              "  [theme=dark] .colab-df-quickchart {\n",
              "      --bg-color: #3B4455;\n",
              "      --fill-color: #D2E3FC;\n",
              "      --hover-bg-color: #434B5C;\n",
              "      --hover-fill-color: #FFFFFF;\n",
              "      --disabled-bg-color: #3B4455;\n",
              "      --disabled-fill-color: #666;\n",
              "  }\n",
              "\n",
              "  .colab-df-quickchart {\n",
              "    background-color: var(--bg-color);\n",
              "    border: none;\n",
              "    border-radius: 50%;\n",
              "    cursor: pointer;\n",
              "    display: none;\n",
              "    fill: var(--fill-color);\n",
              "    height: 32px;\n",
              "    padding: 0;\n",
              "    width: 32px;\n",
              "  }\n",
              "\n",
              "  .colab-df-quickchart:hover {\n",
              "    background-color: var(--hover-bg-color);\n",
              "    box-shadow: 0 1px 2px rgba(60, 64, 67, 0.3), 0 1px 3px 1px rgba(60, 64, 67, 0.15);\n",
              "    fill: var(--button-hover-fill-color);\n",
              "  }\n",
              "\n",
              "  .colab-df-quickchart-complete:disabled,\n",
              "  .colab-df-quickchart-complete:disabled:hover {\n",
              "    background-color: var(--disabled-bg-color);\n",
              "    fill: var(--disabled-fill-color);\n",
              "    box-shadow: none;\n",
              "  }\n",
              "\n",
              "  .colab-df-spinner {\n",
              "    border: 2px solid var(--fill-color);\n",
              "    border-color: transparent;\n",
              "    border-bottom-color: var(--fill-color);\n",
              "    animation:\n",
              "      spin 1s steps(1) infinite;\n",
              "  }\n",
              "\n",
              "  @keyframes spin {\n",
              "    0% {\n",
              "      border-color: transparent;\n",
              "      border-bottom-color: var(--fill-color);\n",
              "      border-left-color: var(--fill-color);\n",
              "    }\n",
              "    20% {\n",
              "      border-color: transparent;\n",
              "      border-left-color: var(--fill-color);\n",
              "      border-top-color: var(--fill-color);\n",
              "    }\n",
              "    30% {\n",
              "      border-color: transparent;\n",
              "      border-left-color: var(--fill-color);\n",
              "      border-top-color: var(--fill-color);\n",
              "      border-right-color: var(--fill-color);\n",
              "    }\n",
              "    40% {\n",
              "      border-color: transparent;\n",
              "      border-right-color: var(--fill-color);\n",
              "      border-top-color: var(--fill-color);\n",
              "    }\n",
              "    60% {\n",
              "      border-color: transparent;\n",
              "      border-right-color: var(--fill-color);\n",
              "    }\n",
              "    80% {\n",
              "      border-color: transparent;\n",
              "      border-right-color: var(--fill-color);\n",
              "      border-bottom-color: var(--fill-color);\n",
              "    }\n",
              "    90% {\n",
              "      border-color: transparent;\n",
              "      border-bottom-color: var(--fill-color);\n",
              "    }\n",
              "  }\n",
              "</style>\n",
              "\n",
              "  <script>\n",
              "    async function quickchart(key) {\n",
              "      const quickchartButtonEl =\n",
              "        document.querySelector('#' + key + ' button');\n",
              "      quickchartButtonEl.disabled = true;  // To prevent multiple clicks.\n",
              "      quickchartButtonEl.classList.add('colab-df-spinner');\n",
              "      try {\n",
              "        const charts = await google.colab.kernel.invokeFunction(\n",
              "            'suggestCharts', [key], {});\n",
              "      } catch (error) {\n",
              "        console.error('Error during call to suggestCharts:', error);\n",
              "      }\n",
              "      quickchartButtonEl.classList.remove('colab-df-spinner');\n",
              "      quickchartButtonEl.classList.add('colab-df-quickchart-complete');\n",
              "    }\n",
              "    (() => {\n",
              "      let quickchartButtonEl =\n",
              "        document.querySelector('#df-35315cdf-40b8-4c2e-87d8-075bbf7fb8e9 button');\n",
              "      quickchartButtonEl.style.display =\n",
              "        google.colab.kernel.accessAllowed ? 'block' : 'none';\n",
              "    })();\n",
              "  </script>\n",
              "</div>\n",
              "\n",
              "    </div>\n",
              "  </div>\n"
            ],
            "application/vnd.google.colaboratory.intrinsic+json": {
              "type": "dataframe",
              "summary": "{\n  \"name\": \"studies_df[studies_df['COURSE']=='DAP']\",\n  \"rows\": 2,\n  \"fields\": [\n    {\n      \"column\": \"PNAME\",\n      \"properties\": {\n        \"dtype\": \"string\",\n        \"num_unique_values\": 2,\n        \"samples\": [\n          \"REVATHI\",\n          \"NELSON\"\n        ],\n        \"semantic_type\": \"\",\n        \"description\": \"\"\n      }\n    },\n    {\n      \"column\": \"INSTITUTE\",\n      \"properties\": {\n        \"dtype\": \"string\",\n        \"num_unique_values\": 2,\n        \"samples\": [\n          \"SABHARI\",\n          \"PRAGATHI\"\n        ],\n        \"semantic_type\": \"\",\n        \"description\": \"\"\n      }\n    },\n    {\n      \"column\": \"COURSE\",\n      \"properties\": {\n        \"dtype\": \"string\",\n        \"num_unique_values\": 1,\n        \"samples\": [\n          \"DAP\"\n        ],\n        \"semantic_type\": \"\",\n        \"description\": \"\"\n      }\n    },\n    {\n      \"column\": \"COURSE FEE\",\n      \"properties\": {\n        \"dtype\": \"number\",\n        \"std\": 848,\n        \"min\": 5000,\n        \"max\": 6200,\n        \"num_unique_values\": 2,\n        \"samples\": [\n          5000\n        ],\n        \"semantic_type\": \"\",\n        \"description\": \"\"\n      }\n    }\n  ]\n}"
            }
          },
          "metadata": {},
          "execution_count": 36
        }
      ]
    },
    {
      "cell_type": "markdown",
      "source": [
        "11. Display the lowest course fee."
      ],
      "metadata": {
        "id": "56Dtb5OaE4ud"
      }
    },
    {
      "cell_type": "code",
      "source": [
        "lowest_course_fee = software_df['SCOST'].min()\n",
        "print('Lowest Course Fee:', lowest_course_fee)"
      ],
      "metadata": {
        "colab": {
          "base_uri": "https://localhost:8080/"
        },
        "id": "SsDbmVR5E7iP",
        "outputId": "077cd4de-c922-4cae-fdfc-a975eff77eb4"
      },
      "execution_count": null,
      "outputs": [
        {
          "output_type": "stream",
          "name": "stdout",
          "text": [
            "Lowest Course Fee: 300.0\n"
          ]
        }
      ]
    },
    {
      "cell_type": "markdown",
      "source": [
        " 12. Display the details of the packages for which development costs have been\n",
        " recovered."
      ],
      "metadata": {
        "id": "Fdy0x9sUFBZM"
      }
    },
    {
      "cell_type": "code",
      "source": [
        "recovered_packages = software_df[software_df['SCOST'] >= software_df['DCOST']]\n",
        "print('Details of Packages for  Development Costs Which Have Been Recovered:')\n",
        "print(recovered_packages)"
      ],
      "metadata": {
        "colab": {
          "base_uri": "https://localhost:8080/"
        },
        "id": "xCMha6giFEjz",
        "outputId": "49ff90b6-c102-4cf3-c6d5-2c6bfb76cec7"
      },
      "execution_count": null,
      "outputs": [
        {
          "output_type": "stream",
          "name": "stdout",
          "text": [
            "Details of Packages for  Development Costs Which Have Been Recovered:\n",
            "     PNAME       TITLE DEVELOPIN  SCOST  DCOST  SOLD\n",
            "15  VIJAYA  TSR EDITOR         C  900.0    700     6\n"
          ]
        }
      ]
    },
    {
      "cell_type": "markdown",
      "source": [
        "13. What is the cost of the costliest software development in Basic."
      ],
      "metadata": {
        "id": "9IBGT7BwFUq9"
      }
    },
    {
      "cell_type": "code",
      "source": [
        "basic_costliest = software_df[software_df['DEVELOPIN'] == 'BASIC']['DCOST'].max()\n",
        "print('Cost of the Costliest Software Development in Basic:', basic_costliest)"
      ],
      "metadata": {
        "colab": {
          "base_uri": "https://localhost:8080/"
        },
        "id": "r89w8pBqFYdc",
        "outputId": "b47b945e-171b-465a-96b5-a6e52d05deff"
      },
      "execution_count": null,
      "outputs": [
        {
          "output_type": "stream",
          "name": "stdout",
          "text": [
            "Cost of the Costliest Software Development in Basic: 6000\n"
          ]
        }
      ]
    },
    {
      "cell_type": "markdown",
      "source": [
        "14. How many programmers paid 5000 to 10000 for their course.\n",
        " "
      ],
      "metadata": {
        "id": "by85ZXPwFjsy"
      }
    },
    {
      "cell_type": "code",
      "source": [
        "programmer_df=pd.read_csv('/content/Programmer (1).csv')\n",
        "programmer_df.head()"
      ],
      "metadata": {
        "colab": {
          "base_uri": "https://localhost:8080/",
          "height": 206
        },
        "id": "Gyr2Fdb_FkIf",
        "outputId": "b768a6e0-20de-48a1-e8c0-75f1654c72f1"
      },
      "execution_count": null,
      "outputs": [
        {
          "output_type": "execute_result",
          "data": {
            "text/plain": [
              "     PNAME        DOB        DOJ GENDER    PROF1   PROF2  SALARY\n",
              "0    ANAND  12-Apr-66  21-Apr-92      M   PASCAL   BASIC    3200\n",
              "1    ALTAF  02-Jul-64  13-Nov-90      M  CLIPPER   COBOL    2800\n",
              "2  JULIANA  31-Jan-60  21-Apr-90      F    COBOL   DBASE    3000\n",
              "3   KAMALA  30-Oct-68  02-Jan-92      F        C   DBASE    2900\n",
              "4     MARY  24-Jun-70  01-Feb-91      F      CPP  ORACLE    4500"
            ],
            "text/html": [
              "\n",
              "  <div id=\"df-2e045da7-0540-4510-93aa-638a703c5694\" class=\"colab-df-container\">\n",
              "    <div>\n",
              "<style scoped>\n",
              "    .dataframe tbody tr th:only-of-type {\n",
              "        vertical-align: middle;\n",
              "    }\n",
              "\n",
              "    .dataframe tbody tr th {\n",
              "        vertical-align: top;\n",
              "    }\n",
              "\n",
              "    .dataframe thead th {\n",
              "        text-align: right;\n",
              "    }\n",
              "</style>\n",
              "<table border=\"1\" class=\"dataframe\">\n",
              "  <thead>\n",
              "    <tr style=\"text-align: right;\">\n",
              "      <th></th>\n",
              "      <th>PNAME</th>\n",
              "      <th>DOB</th>\n",
              "      <th>DOJ</th>\n",
              "      <th>GENDER</th>\n",
              "      <th>PROF1</th>\n",
              "      <th>PROF2</th>\n",
              "      <th>SALARY</th>\n",
              "    </tr>\n",
              "  </thead>\n",
              "  <tbody>\n",
              "    <tr>\n",
              "      <th>0</th>\n",
              "      <td>ANAND</td>\n",
              "      <td>12-Apr-66</td>\n",
              "      <td>21-Apr-92</td>\n",
              "      <td>M</td>\n",
              "      <td>PASCAL</td>\n",
              "      <td>BASIC</td>\n",
              "      <td>3200</td>\n",
              "    </tr>\n",
              "    <tr>\n",
              "      <th>1</th>\n",
              "      <td>ALTAF</td>\n",
              "      <td>02-Jul-64</td>\n",
              "      <td>13-Nov-90</td>\n",
              "      <td>M</td>\n",
              "      <td>CLIPPER</td>\n",
              "      <td>COBOL</td>\n",
              "      <td>2800</td>\n",
              "    </tr>\n",
              "    <tr>\n",
              "      <th>2</th>\n",
              "      <td>JULIANA</td>\n",
              "      <td>31-Jan-60</td>\n",
              "      <td>21-Apr-90</td>\n",
              "      <td>F</td>\n",
              "      <td>COBOL</td>\n",
              "      <td>DBASE</td>\n",
              "      <td>3000</td>\n",
              "    </tr>\n",
              "    <tr>\n",
              "      <th>3</th>\n",
              "      <td>KAMALA</td>\n",
              "      <td>30-Oct-68</td>\n",
              "      <td>02-Jan-92</td>\n",
              "      <td>F</td>\n",
              "      <td>C</td>\n",
              "      <td>DBASE</td>\n",
              "      <td>2900</td>\n",
              "    </tr>\n",
              "    <tr>\n",
              "      <th>4</th>\n",
              "      <td>MARY</td>\n",
              "      <td>24-Jun-70</td>\n",
              "      <td>01-Feb-91</td>\n",
              "      <td>F</td>\n",
              "      <td>CPP</td>\n",
              "      <td>ORACLE</td>\n",
              "      <td>4500</td>\n",
              "    </tr>\n",
              "  </tbody>\n",
              "</table>\n",
              "</div>\n",
              "    <div class=\"colab-df-buttons\">\n",
              "\n",
              "  <div class=\"colab-df-container\">\n",
              "    <button class=\"colab-df-convert\" onclick=\"convertToInteractive('df-2e045da7-0540-4510-93aa-638a703c5694')\"\n",
              "            title=\"Convert this dataframe to an interactive table.\"\n",
              "            style=\"display:none;\">\n",
              "\n",
              "  <svg xmlns=\"http://www.w3.org/2000/svg\" height=\"24px\" viewBox=\"0 -960 960 960\">\n",
              "    <path d=\"M120-120v-720h720v720H120Zm60-500h600v-160H180v160Zm220 220h160v-160H400v160Zm0 220h160v-160H400v160ZM180-400h160v-160H180v160Zm440 0h160v-160H620v160ZM180-180h160v-160H180v160Zm440 0h160v-160H620v160Z\"/>\n",
              "  </svg>\n",
              "    </button>\n",
              "\n",
              "  <style>\n",
              "    .colab-df-container {\n",
              "      display:flex;\n",
              "      gap: 12px;\n",
              "    }\n",
              "\n",
              "    .colab-df-convert {\n",
              "      background-color: #E8F0FE;\n",
              "      border: none;\n",
              "      border-radius: 50%;\n",
              "      cursor: pointer;\n",
              "      display: none;\n",
              "      fill: #1967D2;\n",
              "      height: 32px;\n",
              "      padding: 0 0 0 0;\n",
              "      width: 32px;\n",
              "    }\n",
              "\n",
              "    .colab-df-convert:hover {\n",
              "      background-color: #E2EBFA;\n",
              "      box-shadow: 0px 1px 2px rgba(60, 64, 67, 0.3), 0px 1px 3px 1px rgba(60, 64, 67, 0.15);\n",
              "      fill: #174EA6;\n",
              "    }\n",
              "\n",
              "    .colab-df-buttons div {\n",
              "      margin-bottom: 4px;\n",
              "    }\n",
              "\n",
              "    [theme=dark] .colab-df-convert {\n",
              "      background-color: #3B4455;\n",
              "      fill: #D2E3FC;\n",
              "    }\n",
              "\n",
              "    [theme=dark] .colab-df-convert:hover {\n",
              "      background-color: #434B5C;\n",
              "      box-shadow: 0px 1px 3px 1px rgba(0, 0, 0, 0.15);\n",
              "      filter: drop-shadow(0px 1px 2px rgba(0, 0, 0, 0.3));\n",
              "      fill: #FFFFFF;\n",
              "    }\n",
              "  </style>\n",
              "\n",
              "    <script>\n",
              "      const buttonEl =\n",
              "        document.querySelector('#df-2e045da7-0540-4510-93aa-638a703c5694 button.colab-df-convert');\n",
              "      buttonEl.style.display =\n",
              "        google.colab.kernel.accessAllowed ? 'block' : 'none';\n",
              "\n",
              "      async function convertToInteractive(key) {\n",
              "        const element = document.querySelector('#df-2e045da7-0540-4510-93aa-638a703c5694');\n",
              "        const dataTable =\n",
              "          await google.colab.kernel.invokeFunction('convertToInteractive',\n",
              "                                                    [key], {});\n",
              "        if (!dataTable) return;\n",
              "\n",
              "        const docLinkHtml = 'Like what you see? Visit the ' +\n",
              "          '<a target=\"_blank\" href=https://colab.research.google.com/notebooks/data_table.ipynb>data table notebook</a>'\n",
              "          + ' to learn more about interactive tables.';\n",
              "        element.innerHTML = '';\n",
              "        dataTable['output_type'] = 'display_data';\n",
              "        await google.colab.output.renderOutput(dataTable, element);\n",
              "        const docLink = document.createElement('div');\n",
              "        docLink.innerHTML = docLinkHtml;\n",
              "        element.appendChild(docLink);\n",
              "      }\n",
              "    </script>\n",
              "  </div>\n",
              "\n",
              "\n",
              "<div id=\"df-d9f67f03-25be-49c6-a9fa-efde0b06d537\">\n",
              "  <button class=\"colab-df-quickchart\" onclick=\"quickchart('df-d9f67f03-25be-49c6-a9fa-efde0b06d537')\"\n",
              "            title=\"Suggest charts\"\n",
              "            style=\"display:none;\">\n",
              "\n",
              "<svg xmlns=\"http://www.w3.org/2000/svg\" height=\"24px\"viewBox=\"0 0 24 24\"\n",
              "     width=\"24px\">\n",
              "    <g>\n",
              "        <path d=\"M19 3H5c-1.1 0-2 .9-2 2v14c0 1.1.9 2 2 2h14c1.1 0 2-.9 2-2V5c0-1.1-.9-2-2-2zM9 17H7v-7h2v7zm4 0h-2V7h2v10zm4 0h-2v-4h2v4z\"/>\n",
              "    </g>\n",
              "</svg>\n",
              "  </button>\n",
              "\n",
              "<style>\n",
              "  .colab-df-quickchart {\n",
              "      --bg-color: #E8F0FE;\n",
              "      --fill-color: #1967D2;\n",
              "      --hover-bg-color: #E2EBFA;\n",
              "      --hover-fill-color: #174EA6;\n",
              "      --disabled-fill-color: #AAA;\n",
              "      --disabled-bg-color: #DDD;\n",
              "  }\n",
              "\n",
              "  [theme=dark] .colab-df-quickchart {\n",
              "      --bg-color: #3B4455;\n",
              "      --fill-color: #D2E3FC;\n",
              "      --hover-bg-color: #434B5C;\n",
              "      --hover-fill-color: #FFFFFF;\n",
              "      --disabled-bg-color: #3B4455;\n",
              "      --disabled-fill-color: #666;\n",
              "  }\n",
              "\n",
              "  .colab-df-quickchart {\n",
              "    background-color: var(--bg-color);\n",
              "    border: none;\n",
              "    border-radius: 50%;\n",
              "    cursor: pointer;\n",
              "    display: none;\n",
              "    fill: var(--fill-color);\n",
              "    height: 32px;\n",
              "    padding: 0;\n",
              "    width: 32px;\n",
              "  }\n",
              "\n",
              "  .colab-df-quickchart:hover {\n",
              "    background-color: var(--hover-bg-color);\n",
              "    box-shadow: 0 1px 2px rgba(60, 64, 67, 0.3), 0 1px 3px 1px rgba(60, 64, 67, 0.15);\n",
              "    fill: var(--button-hover-fill-color);\n",
              "  }\n",
              "\n",
              "  .colab-df-quickchart-complete:disabled,\n",
              "  .colab-df-quickchart-complete:disabled:hover {\n",
              "    background-color: var(--disabled-bg-color);\n",
              "    fill: var(--disabled-fill-color);\n",
              "    box-shadow: none;\n",
              "  }\n",
              "\n",
              "  .colab-df-spinner {\n",
              "    border: 2px solid var(--fill-color);\n",
              "    border-color: transparent;\n",
              "    border-bottom-color: var(--fill-color);\n",
              "    animation:\n",
              "      spin 1s steps(1) infinite;\n",
              "  }\n",
              "\n",
              "  @keyframes spin {\n",
              "    0% {\n",
              "      border-color: transparent;\n",
              "      border-bottom-color: var(--fill-color);\n",
              "      border-left-color: var(--fill-color);\n",
              "    }\n",
              "    20% {\n",
              "      border-color: transparent;\n",
              "      border-left-color: var(--fill-color);\n",
              "      border-top-color: var(--fill-color);\n",
              "    }\n",
              "    30% {\n",
              "      border-color: transparent;\n",
              "      border-left-color: var(--fill-color);\n",
              "      border-top-color: var(--fill-color);\n",
              "      border-right-color: var(--fill-color);\n",
              "    }\n",
              "    40% {\n",
              "      border-color: transparent;\n",
              "      border-right-color: var(--fill-color);\n",
              "      border-top-color: var(--fill-color);\n",
              "    }\n",
              "    60% {\n",
              "      border-color: transparent;\n",
              "      border-right-color: var(--fill-color);\n",
              "    }\n",
              "    80% {\n",
              "      border-color: transparent;\n",
              "      border-right-color: var(--fill-color);\n",
              "      border-bottom-color: var(--fill-color);\n",
              "    }\n",
              "    90% {\n",
              "      border-color: transparent;\n",
              "      border-bottom-color: var(--fill-color);\n",
              "    }\n",
              "  }\n",
              "</style>\n",
              "\n",
              "  <script>\n",
              "    async function quickchart(key) {\n",
              "      const quickchartButtonEl =\n",
              "        document.querySelector('#' + key + ' button');\n",
              "      quickchartButtonEl.disabled = true;  // To prevent multiple clicks.\n",
              "      quickchartButtonEl.classList.add('colab-df-spinner');\n",
              "      try {\n",
              "        const charts = await google.colab.kernel.invokeFunction(\n",
              "            'suggestCharts', [key], {});\n",
              "      } catch (error) {\n",
              "        console.error('Error during call to suggestCharts:', error);\n",
              "      }\n",
              "      quickchartButtonEl.classList.remove('colab-df-spinner');\n",
              "      quickchartButtonEl.classList.add('colab-df-quickchart-complete');\n",
              "    }\n",
              "    (() => {\n",
              "      let quickchartButtonEl =\n",
              "        document.querySelector('#df-d9f67f03-25be-49c6-a9fa-efde0b06d537 button');\n",
              "      quickchartButtonEl.style.display =\n",
              "        google.colab.kernel.accessAllowed ? 'block' : 'none';\n",
              "    })();\n",
              "  </script>\n",
              "</div>\n",
              "\n",
              "    </div>\n",
              "  </div>\n"
            ],
            "application/vnd.google.colaboratory.intrinsic+json": {
              "type": "dataframe",
              "variable_name": "programmer_df",
              "summary": "{\n  \"name\": \"programmer_df\",\n  \"rows\": 13,\n  \"fields\": [\n    {\n      \"column\": \"PNAME\",\n      \"properties\": {\n        \"dtype\": \"string\",\n        \"num_unique_values\": 13,\n        \"samples\": [\n          \"REVATHI\",\n          \"REBECCA\",\n          \"ANAND\"\n        ],\n        \"semantic_type\": \"\",\n        \"description\": \"\"\n      }\n    },\n    {\n      \"column\": \"DOB\",\n      \"properties\": {\n        \"dtype\": \"object\",\n        \"num_unique_values\": 13,\n        \"samples\": [\n          \"02-Dec-69\",\n          \"01-Jan-67\",\n          \"12-Apr-66\"\n        ],\n        \"semantic_type\": \"\",\n        \"description\": \"\"\n      }\n    },\n    {\n      \"column\": \"DOJ\",\n      \"properties\": {\n        \"dtype\": \"object\",\n        \"num_unique_values\": 11,\n        \"samples\": [\n          \"11-Oct-89\",\n          \"21-Apr-92\",\n          \"20-Apr-93\"\n        ],\n        \"semantic_type\": \"\",\n        \"description\": \"\"\n      }\n    },\n    {\n      \"column\": \"GENDER\",\n      \"properties\": {\n        \"dtype\": \"category\",\n        \"num_unique_values\": 2,\n        \"samples\": [\n          \"F\",\n          \"M\"\n        ],\n        \"semantic_type\": \"\",\n        \"description\": \"\"\n      }\n    },\n    {\n      \"column\": \"PROF1\",\n      \"properties\": {\n        \"dtype\": \"string\",\n        \"num_unique_values\": 8,\n        \"samples\": [\n          \"CLIPPER\",\n          \"ASSEMBLY\"\n        ],\n        \"semantic_type\": \"\",\n        \"description\": \"\"\n      }\n    },\n    {\n      \"column\": \"PROF2\",\n      \"properties\": {\n        \"dtype\": \"string\",\n        \"num_unique_values\": 7,\n        \"samples\": [\n          \"BASIC\",\n          \"COBOL\"\n        ],\n        \"semantic_type\": \"\",\n        \"description\": \"\"\n      }\n    },\n    {\n      \"column\": \"SALARY\",\n      \"properties\": {\n        \"dtype\": \"number\",\n        \"std\": 551,\n        \"min\": 2500,\n        \"max\": 4500,\n        \"num_unique_values\": 9,\n        \"samples\": [\n          3700,\n          2800\n        ],\n        \"semantic_type\": \"\",\n        \"description\": \"\"\n      }\n    }\n  ]\n}"
            }
          },
          "metadata": {},
          "execution_count": 41
        }
      ]
    },
    {
      "cell_type": "code",
      "source": [
        "programmers_5000_to_10000 = programmer_df[(programmer_df['SALARY'] >= 5000) & (programmer_df['SALARY'] <= 10000)]\n",
        "count_prog = programmers_5000_to_10000.shape[0]\n",
        "print('Number of Programmers Who Paid 5000 to 10000 for Their Course:', count_prog)"
      ],
      "metadata": {
        "colab": {
          "base_uri": "https://localhost:8080/"
        },
        "id": "0XNUXFnZF99W",
        "outputId": "bda3d784-7388-459a-b975-ec400b205d0a"
      },
      "execution_count": null,
      "outputs": [
        {
          "output_type": "stream",
          "name": "stdout",
          "text": [
            "Number of Programmers Who Paid 5000 to 10000 for Their Course: 0\n"
          ]
        }
      ]
    },
    {
      "cell_type": "markdown",
      "source": [
        " 15. How many programmers know either COBOL or Pascal."
      ],
      "metadata": {
        "id": "8S58BqSqGGnT"
      }
    },
    {
      "cell_type": "code",
      "source": [
        "co_or_pa=programmer_df[\n",
        " (programmer_df['PROF1'] == 'COBOL') | (programmer_df['PROF2'] == 'COBOL') |\n",
        " (programmer_df['PROF1'] == 'PASCAL') | (programmer_df['PROF2'] == 'PASCAL')]\n",
        "co_or_pa\n",
        "num= len(co_or_pa)\n",
        "print(\"The number of  programmers know either COBOL or PASCAL is :\",num)"
      ],
      "metadata": {
        "colab": {
          "base_uri": "https://localhost:8080/"
        },
        "id": "UlfXtvFjGMEY",
        "outputId": "59adf669-59d9-4ac2-d63e-c9f1f48008f8"
      },
      "execution_count": null,
      "outputs": [
        {
          "output_type": "stream",
          "name": "stdout",
          "text": [
            "The number of  programmers know either COBOL or PASCAL is : 8\n"
          ]
        }
      ]
    }
  ]
}